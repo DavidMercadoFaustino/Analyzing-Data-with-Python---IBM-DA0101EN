{
  "nbformat": 4,
  "nbformat_minor": 0,
  "metadata": {
    "colab": {
      "name": "Modulo 4 - Model Development.ipynb",
      "provenance": [],
      "mount_file_id": "177EMB6pFpt9V1Ar03kEXfs-i2wCq820m",
      "authorship_tag": "ABX9TyPgKTAPCctCHyvnfAjdVOiT",
      "include_colab_link": true
    },
    "kernelspec": {
      "name": "python3",
      "display_name": "Python 3"
    }
  },
  "cells": [
    {
      "cell_type": "markdown",
      "metadata": {
        "id": "view-in-github",
        "colab_type": "text"
      },
      "source": [
        "<a href=\"https://colab.research.google.com/github/DavidMercadoFaustino/Analyzing-Data-with-Python---IBM-DA0101EN/blob/master/Modulo_4_Model_Development.ipynb\" target=\"_parent\"><img src=\"https://colab.research.google.com/assets/colab-badge.svg\" alt=\"Open In Colab\"/></a>"
      ]
    },
    {
      "cell_type": "markdown",
      "metadata": {
        "id": "KGBNRcn8rLct",
        "colab_type": "text"
      },
      "source": [
        "# Module 4 - Model Development\n",
        "Objetivos:\n",
        "\n",
        "*   Regressões Lineares Simples e Multipla\n",
        "*   Modelo de avaliação usando a visualização\n",
        "*   Regressão Polinomial e Pipelines\n",
        "*   R² e erro quadrático médio\n",
        "*   Predição e tomada de decisão\n"
      ]
    },
    {
      "cell_type": "code",
      "metadata": {
        "id": "p9WpltCjI1DO",
        "colab_type": "code",
        "colab": {}
      },
      "source": [
        "#importação das bibliotecas do Python\n",
        "import pandas as pd\n",
        "import numpy as np\n",
        "import matplotlib.pyplot as plt\n",
        "import seaborn as sns\n",
        "from sklearn.linear_model import LinearRegression"
      ],
      "execution_count": 4,
      "outputs": []
    },
    {
      "cell_type": "code",
      "metadata": {
        "id": "RQEdbIeYukXN",
        "colab_type": "code",
        "colab": {
          "base_uri": "https://localhost:8080/",
          "height": 309
        },
        "outputId": "8c36ae05-64f0-42db-e05d-ad67e1f9eb78"
      },
      "source": [
        "URL = 'https://s3-api.us-geo.objectstorage.softlayer.net/cf-courses-data/CognitiveClass/DA0101EN/automobileEDA.csv'\n",
        "df = pd.read_csv(URL)\n",
        "df.head()"
      ],
      "execution_count": 3,
      "outputs": [
        {
          "output_type": "execute_result",
          "data": {
            "text/html": [
              "<div>\n",
              "<style scoped>\n",
              "    .dataframe tbody tr th:only-of-type {\n",
              "        vertical-align: middle;\n",
              "    }\n",
              "\n",
              "    .dataframe tbody tr th {\n",
              "        vertical-align: top;\n",
              "    }\n",
              "\n",
              "    .dataframe thead th {\n",
              "        text-align: right;\n",
              "    }\n",
              "</style>\n",
              "<table border=\"1\" class=\"dataframe\">\n",
              "  <thead>\n",
              "    <tr style=\"text-align: right;\">\n",
              "      <th></th>\n",
              "      <th>symboling</th>\n",
              "      <th>normalized-losses</th>\n",
              "      <th>make</th>\n",
              "      <th>aspiration</th>\n",
              "      <th>num-of-doors</th>\n",
              "      <th>body-style</th>\n",
              "      <th>drive-wheels</th>\n",
              "      <th>engine-location</th>\n",
              "      <th>wheel-base</th>\n",
              "      <th>length</th>\n",
              "      <th>width</th>\n",
              "      <th>height</th>\n",
              "      <th>curb-weight</th>\n",
              "      <th>engine-type</th>\n",
              "      <th>num-of-cylinders</th>\n",
              "      <th>engine-size</th>\n",
              "      <th>fuel-system</th>\n",
              "      <th>bore</th>\n",
              "      <th>stroke</th>\n",
              "      <th>compression-ratio</th>\n",
              "      <th>horsepower</th>\n",
              "      <th>peak-rpm</th>\n",
              "      <th>city-mpg</th>\n",
              "      <th>highway-mpg</th>\n",
              "      <th>price</th>\n",
              "      <th>city-L/100km</th>\n",
              "      <th>horsepower-binned</th>\n",
              "      <th>diesel</th>\n",
              "      <th>gas</th>\n",
              "    </tr>\n",
              "  </thead>\n",
              "  <tbody>\n",
              "    <tr>\n",
              "      <th>0</th>\n",
              "      <td>3</td>\n",
              "      <td>122</td>\n",
              "      <td>alfa-romero</td>\n",
              "      <td>std</td>\n",
              "      <td>two</td>\n",
              "      <td>convertible</td>\n",
              "      <td>rwd</td>\n",
              "      <td>front</td>\n",
              "      <td>88.6</td>\n",
              "      <td>0.811148</td>\n",
              "      <td>0.890278</td>\n",
              "      <td>48.8</td>\n",
              "      <td>2548</td>\n",
              "      <td>dohc</td>\n",
              "      <td>four</td>\n",
              "      <td>130</td>\n",
              "      <td>mpfi</td>\n",
              "      <td>3.47</td>\n",
              "      <td>2.68</td>\n",
              "      <td>9.0</td>\n",
              "      <td>111.0</td>\n",
              "      <td>5000.0</td>\n",
              "      <td>21</td>\n",
              "      <td>27</td>\n",
              "      <td>13495.0</td>\n",
              "      <td>11.190476</td>\n",
              "      <td>Medium</td>\n",
              "      <td>0</td>\n",
              "      <td>1</td>\n",
              "    </tr>\n",
              "    <tr>\n",
              "      <th>1</th>\n",
              "      <td>3</td>\n",
              "      <td>122</td>\n",
              "      <td>alfa-romero</td>\n",
              "      <td>std</td>\n",
              "      <td>two</td>\n",
              "      <td>convertible</td>\n",
              "      <td>rwd</td>\n",
              "      <td>front</td>\n",
              "      <td>88.6</td>\n",
              "      <td>0.811148</td>\n",
              "      <td>0.890278</td>\n",
              "      <td>48.8</td>\n",
              "      <td>2548</td>\n",
              "      <td>dohc</td>\n",
              "      <td>four</td>\n",
              "      <td>130</td>\n",
              "      <td>mpfi</td>\n",
              "      <td>3.47</td>\n",
              "      <td>2.68</td>\n",
              "      <td>9.0</td>\n",
              "      <td>111.0</td>\n",
              "      <td>5000.0</td>\n",
              "      <td>21</td>\n",
              "      <td>27</td>\n",
              "      <td>16500.0</td>\n",
              "      <td>11.190476</td>\n",
              "      <td>Medium</td>\n",
              "      <td>0</td>\n",
              "      <td>1</td>\n",
              "    </tr>\n",
              "    <tr>\n",
              "      <th>2</th>\n",
              "      <td>1</td>\n",
              "      <td>122</td>\n",
              "      <td>alfa-romero</td>\n",
              "      <td>std</td>\n",
              "      <td>two</td>\n",
              "      <td>hatchback</td>\n",
              "      <td>rwd</td>\n",
              "      <td>front</td>\n",
              "      <td>94.5</td>\n",
              "      <td>0.822681</td>\n",
              "      <td>0.909722</td>\n",
              "      <td>52.4</td>\n",
              "      <td>2823</td>\n",
              "      <td>ohcv</td>\n",
              "      <td>six</td>\n",
              "      <td>152</td>\n",
              "      <td>mpfi</td>\n",
              "      <td>2.68</td>\n",
              "      <td>3.47</td>\n",
              "      <td>9.0</td>\n",
              "      <td>154.0</td>\n",
              "      <td>5000.0</td>\n",
              "      <td>19</td>\n",
              "      <td>26</td>\n",
              "      <td>16500.0</td>\n",
              "      <td>12.368421</td>\n",
              "      <td>Medium</td>\n",
              "      <td>0</td>\n",
              "      <td>1</td>\n",
              "    </tr>\n",
              "    <tr>\n",
              "      <th>3</th>\n",
              "      <td>2</td>\n",
              "      <td>164</td>\n",
              "      <td>audi</td>\n",
              "      <td>std</td>\n",
              "      <td>four</td>\n",
              "      <td>sedan</td>\n",
              "      <td>fwd</td>\n",
              "      <td>front</td>\n",
              "      <td>99.8</td>\n",
              "      <td>0.848630</td>\n",
              "      <td>0.919444</td>\n",
              "      <td>54.3</td>\n",
              "      <td>2337</td>\n",
              "      <td>ohc</td>\n",
              "      <td>four</td>\n",
              "      <td>109</td>\n",
              "      <td>mpfi</td>\n",
              "      <td>3.19</td>\n",
              "      <td>3.40</td>\n",
              "      <td>10.0</td>\n",
              "      <td>102.0</td>\n",
              "      <td>5500.0</td>\n",
              "      <td>24</td>\n",
              "      <td>30</td>\n",
              "      <td>13950.0</td>\n",
              "      <td>9.791667</td>\n",
              "      <td>Medium</td>\n",
              "      <td>0</td>\n",
              "      <td>1</td>\n",
              "    </tr>\n",
              "    <tr>\n",
              "      <th>4</th>\n",
              "      <td>2</td>\n",
              "      <td>164</td>\n",
              "      <td>audi</td>\n",
              "      <td>std</td>\n",
              "      <td>four</td>\n",
              "      <td>sedan</td>\n",
              "      <td>4wd</td>\n",
              "      <td>front</td>\n",
              "      <td>99.4</td>\n",
              "      <td>0.848630</td>\n",
              "      <td>0.922222</td>\n",
              "      <td>54.3</td>\n",
              "      <td>2824</td>\n",
              "      <td>ohc</td>\n",
              "      <td>five</td>\n",
              "      <td>136</td>\n",
              "      <td>mpfi</td>\n",
              "      <td>3.19</td>\n",
              "      <td>3.40</td>\n",
              "      <td>8.0</td>\n",
              "      <td>115.0</td>\n",
              "      <td>5500.0</td>\n",
              "      <td>18</td>\n",
              "      <td>22</td>\n",
              "      <td>17450.0</td>\n",
              "      <td>13.055556</td>\n",
              "      <td>Medium</td>\n",
              "      <td>0</td>\n",
              "      <td>1</td>\n",
              "    </tr>\n",
              "  </tbody>\n",
              "</table>\n",
              "</div>"
            ],
            "text/plain": [
              "   symboling  normalized-losses         make  ... horsepower-binned diesel gas\n",
              "0          3                122  alfa-romero  ...            Medium      0   1\n",
              "1          3                122  alfa-romero  ...            Medium      0   1\n",
              "2          1                122  alfa-romero  ...            Medium      0   1\n",
              "3          2                164         audi  ...            Medium      0   1\n",
              "4          2                164         audi  ...            Medium      0   1\n",
              "\n",
              "[5 rows x 29 columns]"
            ]
          },
          "metadata": {
            "tags": []
          },
          "execution_count": 3
        }
      ]
    },
    {
      "cell_type": "markdown",
      "metadata": {
        "id": "9pBeREpvu6RQ",
        "colab_type": "text"
      },
      "source": [
        "# Regressão linear Simples e Multipla\n",
        "\n",
        "As  regressões são métodos descritivos da análise de dados que permitem explorar e inferir a relação de uma variável de resposta com uma ou mais variáveis explicatórias. \n",
        "\n"
      ]
    },
    {
      "cell_type": "markdown",
      "metadata": {
        "id": "P3QNQnm749U9",
        "colab_type": "text"
      },
      "source": [
        "## Regressão linear simples\n",
        "A regressão linear simples é um metodo que nos permite entender melhor a relação entre duas variaveis.\n",
        "\n",
        "* Variável independente ou explicatória \"X\"\n",
        "* Variável dependente ou de resposta \"Y\"\n",
        "\n",
        "O resultado dessa regressão linear é uma função linear que prevê uma resposta \"Y\" em função de uma variação \"X\".\n",
        "\n",
        "Função linear expressa dessa maneira:       \n",
        "### **Y = a + bX**\n",
        "Sendo que a e b sendo coeficiente assumindo numeros Reais e b sendo diferente de 0"
      ]
    },
    {
      "cell_type": "code",
      "metadata": {
        "id": "_attHAKAy2F5",
        "colab_type": "code",
        "colab": {
          "base_uri": "https://localhost:8080/",
          "height": 34
        },
        "outputId": "d3809157-09c3-4472-95e1-67d25dfa595f"
      },
      "source": [
        "# Criação de um objeto de regressão linear\n",
        "lm = LinearRegression()\n",
        "lm"
      ],
      "execution_count": 5,
      "outputs": [
        {
          "output_type": "execute_result",
          "data": {
            "text/plain": [
              "LinearRegression(copy_X=True, fit_intercept=True, n_jobs=None, normalize=False)"
            ]
          },
          "metadata": {
            "tags": []
          },
          "execution_count": 5
        }
      ]
    },
    {
      "cell_type": "code",
      "metadata": {
        "id": "Vf5A1xYQu0cb",
        "colab_type": "code",
        "colab": {}
      },
      "source": [
        "# Vamos olhar como a variavel 'highway-mpg' pode prever a variável 'price' dos carros. \n",
        "# Então colocamos nas variaveis X e Y\n",
        "X = df[['highway-mpg']]\n",
        "Y = df['price']"
      ],
      "execution_count": 6,
      "outputs": []
    },
    {
      "cell_type": "code",
      "metadata": {
        "id": "vnvhi5TZ0gLj",
        "colab_type": "code",
        "colab": {
          "base_uri": "https://localhost:8080/",
          "height": 34
        },
        "outputId": "7a179fdc-c3b5-4855-a606-6241507b0bdf"
      },
      "source": [
        "# Colocar a função fit no modelo Linear usando o 'highway-mpg'\n",
        "lm.fit(X,Y)"
      ],
      "execution_count": 7,
      "outputs": [
        {
          "output_type": "execute_result",
          "data": {
            "text/plain": [
              "LinearRegression(copy_X=True, fit_intercept=True, n_jobs=None, normalize=False)"
            ]
          },
          "metadata": {
            "tags": []
          },
          "execution_count": 7
        }
      ]
    },
    {
      "cell_type": "code",
      "metadata": {
        "id": "C3yaMkgs0zNB",
        "colab_type": "code",
        "colab": {
          "base_uri": "https://localhost:8080/",
          "height": 51
        },
        "outputId": "61678dc4-672c-4c32-ee16-72cf21e02e69"
      },
      "source": [
        "# Vamos ver as predições\n",
        "Yhat = lm.predict(X)\n",
        "Yhat[0:5]"
      ],
      "execution_count": 9,
      "outputs": [
        {
          "output_type": "execute_result",
          "data": {
            "text/plain": [
              "array([16236.50464347, 16236.50464347, 17058.23802179, 13771.3045085 ,\n",
              "       20345.17153508])"
            ]
          },
          "metadata": {
            "tags": []
          },
          "execution_count": 9
        }
      ]
    },
    {
      "cell_type": "code",
      "metadata": {
        "id": "DW5ZuxAU0-ZZ",
        "colab_type": "code",
        "colab": {
          "base_uri": "https://localhost:8080/",
          "height": 34
        },
        "outputId": "aff2ed25-b455-421c-b897-30822663da28"
      },
      "source": [
        "#Vamos ver a função linear da regressão entre as duas variavels\n",
        "a = lm.intercept_\n",
        "b = lm.coef_\n",
        "print('A função dessa relação é Price =', a, '+', b,'Highway-MPG')"
      ],
      "execution_count": 11,
      "outputs": [
        {
          "output_type": "stream",
          "text": [
            "A função dessa relação é Price = 38423.3058581574 + [-821.73337832] Highway-MPG\n"
          ],
          "name": "stdout"
        }
      ]
    },
    {
      "cell_type": "markdown",
      "metadata": {
        "id": "h-J26jMl20IA",
        "colab_type": "text"
      },
      "source": [
        "Aqui vemos que a função linear pode ser expressa na relação:\n",
        "**Price = 38423.3058581574 + [-821.73337832] Highway-MPG**"
      ]
    },
    {
      "cell_type": "code",
      "metadata": {
        "id": "1c-p5KAs2sWZ",
        "colab_type": "code",
        "colab": {
          "base_uri": "https://localhost:8080/",
          "height": 34
        },
        "outputId": "3707d130-d66d-491c-db49-70b6cf3f9c2b"
      },
      "source": [
        "# Agora vamos ver a relação entre o 'engine-size' e o 'price'\n",
        "lm1 = LinearRegression()\n",
        "lm1.fit( df[['engine-size']],df[['price']])\n",
        "a1 = lm1.intercept_\n",
        "b1 = lm1.coef_\n",
        "print('A função dessa relação é Price =', a1, '+', b1,'Engine-Size')"
      ],
      "execution_count": 13,
      "outputs": [
        {
          "output_type": "stream",
          "text": [
            "A função dessa relação é Price = [-7963.33890628] + [[166.86001569]] Engine-Size\n"
          ],
          "name": "stdout"
        }
      ]
    },
    {
      "cell_type": "markdown",
      "metadata": {
        "id": "bUeBcgKn4Tt6",
        "colab_type": "text"
      },
      "source": [
        "Aqui vemos que a função linear pode ser expressa na relação: **Price = [-7963.33890628] + [[166.86001569]] Engine-Size**"
      ]
    },
    {
      "cell_type": "markdown",
      "metadata": {
        "id": "z5FPLzJA4deg",
        "colab_type": "text"
      },
      "source": [
        "## Regressão Linear Multipla\n",
        "\n",
        "Pela lógica a regressão linear multipla vai depender de duas ou mais variaveis explicatórias para uma variável de resposta. Maioria dos modelos regressivos são regressões multiplas.\n",
        "Então nesse metodo de analise teremos: \n",
        "\n",
        "Y = Variável dependente\n",
        "\n",
        "X1 = Variável independente 1\n",
        "\n",
        "X2 = Variável independente 2\n",
        "\n",
        "X3 = Variável independente 3\n",
        "\n",
        "Xn =  Variável independente n\n",
        "\n",
        "a = coeficiente real\n",
        "\n",
        "b1 = coeficiente real 1 diferente de 0\n",
        "\n",
        "b2 = coeficiente real 2 diferente de 0\n",
        "\n",
        "b3 = coeficiente real 3 diferente de 0\n",
        "\n",
        "bn = coeficiente real n diferente de 0\n",
        "\n",
        "A função dessa regressão sera: \n",
        "\n",
        "### **Y = a + b1X1 + b2X2 + b3X3 + ... + bnXn**"
      ]
    },
    {
      "cell_type": "code",
      "metadata": {
        "id": "KTMUN8Mp4BSN",
        "colab_type": "code",
        "colab": {}
      },
      "source": [
        "# vamos aplicar esse metodo usando as variaveis 'horsepower', 'curb-weight', 'engine-size', 'highway-mpg'\n",
        "Z = df[['horsepower', 'curb-weight', 'engine-size', 'highway-mpg']]"
      ],
      "execution_count": 14,
      "outputs": []
    },
    {
      "cell_type": "code",
      "metadata": {
        "id": "YxSLmteEO7Ae",
        "colab_type": "code",
        "colab": {
          "base_uri": "https://localhost:8080/",
          "height": 34
        },
        "outputId": "42b7b2c2-f4c5-48e2-97c6-8c6c676f07dc"
      },
      "source": [
        "lm.fit(Z,df['price'])"
      ],
      "execution_count": 15,
      "outputs": [
        {
          "output_type": "execute_result",
          "data": {
            "text/plain": [
              "LinearRegression(copy_X=True, fit_intercept=True, n_jobs=None, normalize=False)"
            ]
          },
          "metadata": {
            "tags": []
          },
          "execution_count": 15
        }
      ]
    },
    {
      "cell_type": "code",
      "metadata": {
        "id": "E0iYTDftPCze",
        "colab_type": "code",
        "colab": {
          "base_uri": "https://localhost:8080/",
          "height": 34
        },
        "outputId": "d1b282ca-4062-4b92-9376-c69b8c66a250"
      },
      "source": [
        "lm.intercept_"
      ],
      "execution_count": 16,
      "outputs": [
        {
          "output_type": "execute_result",
          "data": {
            "text/plain": [
              "-15806.62462632922"
            ]
          },
          "metadata": {
            "tags": []
          },
          "execution_count": 16
        }
      ]
    },
    {
      "cell_type": "code",
      "metadata": {
        "id": "0bpxW_ruPLqU",
        "colab_type": "code",
        "colab": {
          "base_uri": "https://localhost:8080/",
          "height": 34
        },
        "outputId": "91ccb819-83c2-4d4e-b6e0-7057dce6f61f"
      },
      "source": [
        "lm.coef_"
      ],
      "execution_count": 17,
      "outputs": [
        {
          "output_type": "execute_result",
          "data": {
            "text/plain": [
              "array([53.49574423,  4.70770099, 81.53026382, 36.05748882])"
            ]
          },
          "metadata": {
            "tags": []
          },
          "execution_count": 17
        }
      ]
    },
    {
      "cell_type": "markdown",
      "metadata": {
        "id": "m6UGAUmlbXL-",
        "colab_type": "text"
      },
      "source": [
        "Aqui vemos que a função linear pode ser expressa na relação: \n",
        "\n",
        "**Price = -15806.62462632922 + 53.49574423 Horsepower + 4.70770099 Curb-Weight + 81.53026382 Engine-Size + 36.05748882 Highway-MPG**"
      ]
    },
    {
      "cell_type": "markdown",
      "metadata": {
        "id": "L7SIXyDceViG",
        "colab_type": "text"
      },
      "source": [
        "# Vizualização das regressões\n",
        "Com as vizualizações podemos ver como essas variaveis se comportam dentro do gráfico. Assim podemos analisar a relação entre as duas variáveis, levando em consideração a força e a direção da correlação."
      ]
    },
    {
      "cell_type": "code",
      "metadata": {
        "id": "N7kLBdw-PhSG",
        "colab_type": "code",
        "colab": {
          "base_uri": "https://localhost:8080/",
          "height": 405
        },
        "outputId": "d51816af-5bba-46b6-9f5c-70d224be03d5"
      },
      "source": [
        "#primeiro vamos analisar a relação da variável 'highway-mpg\"' e a 'price'\n",
        "width = 8\n",
        "height = 6\n",
        "plt.figure(figsize=(width, height))\n",
        "sns.regplot(x=\"highway-mpg\", y=\"price\", data=df)\n",
        "plt.ylim(0,)"
      ],
      "execution_count": 19,
      "outputs": [
        {
          "output_type": "execute_result",
          "data": {
            "text/plain": [
              "(0.0, 48164.334062837515)"
            ]
          },
          "metadata": {
            "tags": []
          },
          "execution_count": 19
        },
        {
          "output_type": "display_data",
          "data": {
            "image/png": "[encoded data removed]",
            "text/plain": [
              "<Figure size 576x432 with 1 Axes>"
            ]
          },
          "metadata": {
            "tags": [],
            "needs_background": "light"
          }
        }
      ]
    },
    {
      "cell_type": "code",
      "metadata": {
        "id": "LlSaGPgLf556",
        "colab_type": "code",
        "colab": {
          "base_uri": "https://localhost:8080/",
          "height": 405
        },
        "outputId": "53421c1a-8a77-43bb-df4a-a00ee3ea9049"
      },
      "source": [
        "# Agora o gráfico usando a 'peak-rpm'\n",
        "plt.figure(figsize=(width, height))\n",
        "sns.regplot(x=\"peak-rpm\", y=\"price\", data=df)\n",
        "plt.ylim(0,)"
      ],
      "execution_count": 20,
      "outputs": [
        {
          "output_type": "execute_result",
          "data": {
            "text/plain": [
              "(0.0, 47414.1)"
            ]
          },
          "metadata": {
            "tags": []
          },
          "execution_count": 20
        },
        {
          "output_type": "display_data",
          "data": {
            "image/png": "[encoded data removed]",
            "text/plain": [
              "<Figure size 576x432 with 1 Axes>"
            ]
          },
          "metadata": {
            "tags": [],
            "needs_background": "light"
          }
        }
      ]
    },
    {
      "cell_type": "code",
      "metadata": {
        "id": "FY4TCSbagIzO",
        "colab_type": "code",
        "colab": {
          "base_uri": "https://localhost:8080/",
          "height": 405
        },
        "outputId": "21a50dcc-69db-436d-f669-2722bd3a108b"
      },
      "source": [
        "# E finalizando a relação com a 'horsepower'\n",
        "plt.figure(figsize=(width, height))\n",
        "sns.regplot(x=\"horsepower\", y=\"price\", data=df)\n",
        "plt.ylim(0,)"
      ],
      "execution_count": 21,
      "outputs": [
        {
          "output_type": "execute_result",
          "data": {
            "text/plain": [
              "(0.0, 47541.36474961948)"
            ]
          },
          "metadata": {
            "tags": []
          },
          "execution_count": 21
        },
        {
          "output_type": "display_data",
          "data": {
            "image/png": "[encoded data removed]",
            "text/plain": [
              "<Figure size 576x432 with 1 Axes>"
            ]
          },
          "metadata": {
            "tags": [],
            "needs_background": "light"
          }
        }
      ]
    },
    {
      "cell_type": "markdown",
      "metadata": {
        "id": "929H0uL2g-4p",
        "colab_type": "text"
      },
      "source": [
        "Apartir dos três gráficos podemos observar que os pontos do grafico 1 e 3 tem uma distribuição mais alinhada a linha de tendencia do que a do  grafico dois. Outra questão que podemos observar é a direção da linha vemos no grafico um uma direção decendente e no terceiro gráfico uma direção acendente. Essa direção pode também ser observada nas expressões das funções onde o coeficiente do grafico 2 temos um numero negativo e no gráfico 3 temos um numero positivo. "
      ]
    },
    {
      "cell_type": "code",
      "metadata": {
        "id": "493lSpmzgQl-",
        "colab_type": "code",
        "colab": {
          "base_uri": "https://localhost:8080/",
          "height": 269
        },
        "outputId": "9b0ca1b2-247b-41ba-98f4-5175d1a1efe5"
      },
      "source": [
        "#outra forma de observar a relação das variaveis.\n",
        "df_cor = df[[\"peak-rpm\",\"highway-mpg\",'horsepower',\"price\"]].corr()\n",
        "ax = sns.heatmap(df_cor,  cmap=\"YlGnBu\", center=0, annot=True)"
      ],
      "execution_count": 29,
      "outputs": [
        {
          "output_type": "display_data",
          "data": {
            "image/png": "[encoded data removed]",
            "text/plain": [
              "<Figure size 432x288 with 2 Axes>"
            ]
          },
          "metadata": {
            "tags": [],
            "needs_background": "light"
          }
        }
      ]
    },
    {
      "cell_type": "markdown",
      "metadata": {
        "id": "nqhVNhgzqsuG",
        "colab_type": "text"
      },
      "source": [
        "## Analise de resíduos\n",
        "O Resíduo é dado pela diferença entre a variável resposta observada Y  e a variável resposta estimada Yhat. Assim temos que o residuo é a distancia entre o ponto da base de dado até a linha de regressão.\n",
        "\n",
        "Essa analise podemos plotar em um grafico para analisar como ela se comporta."
      ]
    },
    {
      "cell_type": "code",
      "metadata": {
        "id": "ZAaZBT_Gg4rt",
        "colab_type": "code",
        "colab": {
          "base_uri": "https://localhost:8080/",
          "height": 497
        },
        "outputId": "0a205bf7-4f7d-4182-c302-b79d2e1f7f56"
      },
      "source": [
        "# Vamos fazer analise dos resíduos da regressão da variavel 'highway-mpg'\n",
        "plt.figure(figsize=(width, height))\n",
        "sns.residplot(df['highway-mpg'], df['price'])\n",
        "plt.show()"
      ],
      "execution_count": 31,
      "outputs": [
        {
          "output_type": "display_data",
          "data": {
            "image/png": "[encoded data removed]",
            "text/plain": [
              "<Figure size 432x576 with 1 Axes>"
            ]
          },
          "metadata": {
            "tags": [],
            "needs_background": "light"
          }
        }
      ]
    },
    {
      "cell_type": "code",
      "metadata": {
        "id": "E11lDUsjtu1y",
        "colab_type": "code",
        "colab": {
          "base_uri": "https://localhost:8080/",
          "height": 513
        },
        "outputId": "0f065b7b-04a7-44ea-8897-93777c3780a0"
      },
      "source": [
        "plt.figure(figsize=(width, height))\n",
        "\n",
        "\n",
        "ax1 = sns.distplot(df['price'], hist=False, color=\"r\", label=\"Actual Value\")\n",
        "sns.distplot(Yhat, hist=False, color=\"b\", label=\"Fitted Values\" , ax=ax1)\n",
        "\n",
        "\n",
        "plt.title('Actual vs Fitted Values for Price')\n",
        "plt.xlabel('Price (in dollars)')\n",
        "plt.ylabel('Proportion of Cars')\n",
        "\n",
        "plt.show()\n",
        "plt.close()"
      ],
      "execution_count": 32,
      "outputs": [
        {
          "output_type": "display_data",
          "data": {
            "image/png": "[encoded data removed]",
            "text/plain": [
              "<Figure size 432x576 with 1 Axes>"
            ]
          },
          "metadata": {
            "tags": [],
            "needs_background": "light"
          }
        }
      ]
    },
    {
      "cell_type": "code",
      "metadata": {
        "id": "dLW6WXsTulHN",
        "colab_type": "code",
        "colab": {}
      },
      "source": [
        ""
      ],
      "execution_count": null,
      "outputs": []
    }
  ]
}